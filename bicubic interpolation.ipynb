{
 "cells": [
  {
   "cell_type": "code",
   "execution_count": 1,
   "metadata": {},
   "outputs": [],
   "source": [
    "# Import modules\n",
    "import cv2\n",
    "import numpy as np\n",
    "import math\n",
    "import sys, time"
   ]
  },
  {
   "cell_type": "code",
   "execution_count": null,
   "metadata": {},
   "outputs": [],
   "source": []
  },
  {
   "cell_type": "code",
   "execution_count": 3,
   "metadata": {},
   "outputs": [],
   "source": [
    "# Interpolation kernel\n",
    "def u(s, a):\n",
    "    \n",
    "    if (abs(s) >= 0) & (abs(s) <= 1):\n",
    "        return (a+2)*(abs(s)**3)-(a+3)*(abs(s)**2)+1\n",
    "        \n",
    "    elif (abs(s) > 1) & (abs(s) <= 2):\n",
    "        return a*(abs(s)**3)-(5*a)*(abs(s)**2)+(8*a)*abs(s)-4*a\n",
    "    return 0"
   ]
  },
  {
   "cell_type": "code",
   "execution_count": 4,
   "metadata": {},
   "outputs": [],
   "source": [
    "\n",
    "# Padding\n",
    "def padding(img, H, W, C):\n",
    "    zimg = np.zeros((H+4, W+4, C))\n",
    "    zimg[2:H+2, 2:W+2, :C] = img\n",
    "      \n",
    "    # Pad the first/last two col and row\n",
    "    zimg[2:H+2, 0:2, :C] = img[:, 0:1, :C]\n",
    "    zimg[H+2:H+4, 2:W+2, :] = img[H-1:H, :, :]\n",
    "    zimg[2:H+2, W+2:W+4, :] = img[:, W-1:W, :]\n",
    "    zimg[0:2, 2:W+2, :C] = img[0:1, :, :C]\n",
    "      \n",
    "    # Pad the missing eight points\n",
    "    zimg[0:2, 0:2, :C] = img[0, 0, :C]\n",
    "    zimg[H+2:H+4, 0:2, :C] = img[H-1, 0, :C]\n",
    "    zimg[H+2:H+4, W+2:W+4, :C] = img[H-1, W-1, :C]\n",
    "    zimg[0:2, W+2:W+4, :C] = img[0, W-1, :C]\n",
    "      \n",
    "    return zimg"
   ]
  },
  {
   "cell_type": "code",
   "execution_count": 2,
   "metadata": {},
   "outputs": [],
   "source": [
    "# Bicubic operation\n",
    "def bicubic(img, ratio, a):\n",
    "  \n",
    "    # Get image size\n",
    "    H, W, C = img.shape\n",
    "  \n",
    "    # Here H = Height, W = weight,\n",
    "    # C = Number of channels if the\n",
    "    # image is coloured.\n",
    "    img = padding(img, H, W, C)\n",
    "  \n",
    "    # Create new image\n",
    "    dH = math.floor(H*ratio)\n",
    "    dW = math.floor(W*ratio)\n",
    "  \n",
    "    # Converting into matrix\n",
    "    dst = np.zeros((dH, dW, 3))\n",
    "  \n",
    "    # np.zeroes generates a matrix\n",
    "    # consisting only of zeroes\n",
    "    # Here we initialize our answer\n",
    "    # (dst) as zero\n",
    "  \n",
    "    h = 1/ratio\n",
    "  \n",
    "    print('Start bicubic interpolation')\n",
    "    print('It will take a little while...')\n",
    "    inc = 0\n",
    "  \n",
    "    for c in range(C):\n",
    "        for j in range(dH):\n",
    "            for i in range(dW):\n",
    "  \n",
    "                # Getting the coordinates of the\n",
    "                # nearby values\n",
    "                x, y = i * h + 2, j * h + 2\n",
    "  \n",
    "                x1 = 1 + x - math.floor(x)\n",
    "                x2 = x - math.floor(x)\n",
    "                x3 = math.floor(x) + 1 - x\n",
    "                x4 = math.floor(x) + 2 - x\n",
    "  \n",
    "                y1 = 1 + y - math.floor(y)\n",
    "                y2 = y - math.floor(y)\n",
    "                y3 = math.floor(y) + 1 - y\n",
    "                y4 = math.floor(y) + 2 - y\n",
    "  \n",
    "                # Considering all nearby 16 values\n",
    "                mat_l = np.matrix([[u(x1, a), u(x2, a), u(x3, a), u(x4, a)]])\n",
    "                mat_m = np.matrix([[img[int(y-y1), int(x-x1), c],\n",
    "                                    img[int(y-y2), int(x-x1), c],\n",
    "                                    img[int(y+y3), int(x-x1), c],\n",
    "                                    img[int(y+y4), int(x-x1), c]],\n",
    "                                   [img[int(y-y1), int(x-x2), c],\n",
    "                                    img[int(y-y2), int(x-x2), c],\n",
    "                                    img[int(y+y3), int(x-x2), c],\n",
    "                                    img[int(y+y4), int(x-x2), c]],\n",
    "                                   [img[int(y-y1), int(x+x3), c],\n",
    "                                    img[int(y-y2), int(x+x3), c],\n",
    "                                    img[int(y+y3), int(x+x3), c],\n",
    "                                    img[int(y+y4), int(x+x3), c]],\n",
    "                                   [img[int(y-y1), int(x+x4), c],\n",
    "                                    img[int(y-y2), int(x+x4), c],\n",
    "                                    img[int(y+y3), int(x+x4), c],\n",
    "                                    img[int(y+y4), int(x+x4), c]]])\n",
    "                mat_r = np.matrix(\n",
    "                    [[u(y1, a)], [u(y2, a)], [u(y3, a)], [u(y4, a)]])\n",
    "                  \n",
    "                # Here the dot function is used to get the dot \n",
    "                # product of 2 matrices\n",
    "                dst[j, i, c] = np.dot(np.dot(mat_l, mat_m), mat_r)\n",
    "  \n",
    "    # If there is an error message, it\n",
    "    # directly goes to stderr\n",
    "    sys.stderr.write('\\n')\n",
    "      \n",
    "    # Flushing the buffer\n",
    "    sys.stderr.flush()\n",
    "    return dst"
   ]
  },
  {
   "cell_type": "code",
   "execution_count": 9,
   "metadata": {},
   "outputs": [
    {
     "name": "stdout",
     "output_type": "stream",
     "text": [
      "Start bicubic interpolation\n",
      "It will take a little while...\n"
     ]
    },
    {
     "name": "stderr",
     "output_type": "stream",
     "text": [
      "\n"
     ]
    },
    {
     "name": "stdout",
     "output_type": "stream",
     "text": [
      "Completed!\n"
     ]
    }
   ],
   "source": [
    "from PIL import Image\n",
    "img = Image.open('C:\\\\Users\\\\atk\\\\Desktop\\\\IP4RS\\\\UCMerced_LandUse\\\\Images\\\\airplane\\\\airplane00.tif')\n",
    "image_np = np.array(img)\n",
    "\n",
    "  \n",
    "# Scale factor\n",
    "ratio = 5\n",
    "  \n",
    "# Coefficient\n",
    "a = -1/2\n",
    "  \n",
    "# Passing the input image in the \n",
    "# bicubic function\n",
    "dst = bicubic(image_np, ratio, a)  \n",
    "print('Completed!')\n",
    "  \n",
    "# Saving the output image\n",
    "cv2.imwrite('c:\\\\users\\\\atk\\\\desktop\\\\bicubsic1.bmp', dst) \n",
    "bicubicImg=cv2.imread('c:\\\\users\\\\atk\\desktop\\\\bicubsic1.bmp')"
   ]
  },
  {
   "cell_type": "code",
   "execution_count": 10,
   "metadata": {},
   "outputs": [
    {
     "ename": "error",
     "evalue": "OpenCV(4.5.2) :-1: error: (-5:Bad argument) in function 'imshow'\n> Overload resolution failed:\n>  - imshow() missing required argument 'mat' (pos 2)\n>  - imshow() missing required argument 'mat' (pos 2)\n>  - imshow() missing required argument 'mat' (pos 2)\n",
     "output_type": "error",
     "traceback": [
      "\u001b[1;31m---------------------------------------------------------------------------\u001b[0m",
      "\u001b[1;31merror\u001b[0m                                     Traceback (most recent call last)",
      "\u001b[1;32m<ipython-input-10-054afc483184>\u001b[0m in \u001b[0;36m<module>\u001b[1;34m\u001b[0m\n\u001b[1;32m----> 1\u001b[1;33m \u001b[0mcv2\u001b[0m\u001b[1;33m.\u001b[0m\u001b[0mimshow\u001b[0m\u001b[1;33m(\u001b[0m\u001b[0mbicubicImg\u001b[0m\u001b[1;33m)\u001b[0m\u001b[1;33m\u001b[0m\u001b[1;33m\u001b[0m\u001b[0m\n\u001b[0m",
      "\u001b[1;31merror\u001b[0m: OpenCV(4.5.2) :-1: error: (-5:Bad argument) in function 'imshow'\n> Overload resolution failed:\n>  - imshow() missing required argument 'mat' (pos 2)\n>  - imshow() missing required argument 'mat' (pos 2)\n>  - imshow() missing required argument 'mat' (pos 2)\n"
     ]
    }
   ],
   "source": [
    "cv2.imshow(bicubicImg)"
   ]
  },
  {
   "cell_type": "code",
   "execution_count": null,
   "metadata": {},
   "outputs": [],
   "source": [
    "from PIL import Image\n",
    "im = Image.fromarray(A)\n",
    "im.save(\"your_file.jpeg\")"
   ]
  }
 ],
 "metadata": {
  "kernelspec": {
   "display_name": "Python 3",
   "language": "python",
   "name": "python3"
  },
  "language_info": {
   "codemirror_mode": {
    "name": "ipython",
    "version": 3
   },
   "file_extension": ".py",
   "mimetype": "text/x-python",
   "name": "python",
   "nbconvert_exporter": "python",
   "pygments_lexer": "ipython3",
   "version": "3.8.3"
  }
 },
 "nbformat": 4,
 "nbformat_minor": 4
}
